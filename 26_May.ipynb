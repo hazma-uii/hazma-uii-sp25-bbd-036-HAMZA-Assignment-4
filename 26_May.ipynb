{
 "cells": [
  {
   "cell_type": "code",
   "execution_count": 6,
   "id": "dd6b23ca-9931-4275-b4dd-44d7c0fd604e",
   "metadata": {},
   "outputs": [
    {
     "name": "stdout",
     "output_type": "stream",
     "text": [
      "hello, imran\n",
      "hello, dearrrr\n",
      "hello, nick\n"
     ]
    }
   ],
   "source": [
    "def greet(name):\n",
    "    print(\"hello, \" + name )\n",
    "\n",
    "greet(\"imran\")\n",
    "greet(\"dearrrr\")\n",
    "greet(\"nick\")\n"
   ]
  },
  {
   "cell_type": "code",
   "execution_count": null,
   "id": "96a33449-589c-42ea-b394-c9196246012f",
   "metadata": {},
   "outputs": [],
   "source": [
    "def calculate_area(lenght,width):\n",
    "    "
   ]
  },
  {
   "cell_type": "code",
   "execution_count": 13,
   "id": "23810630-3404-4634-807a-c6e072998772",
   "metadata": {},
   "outputs": [
    {
     "name": "stdout",
     "output_type": "stream",
     "text": [
      "Hello Python Learner!\n"
     ]
    }
   ],
   "source": [
    "#**************QUESTION 1*******************\n",
    "\n",
    "def say_hello():\n",
    "    print(\"Hello\",'Python Learner' \"!\" )\n",
    "say_hello()"
   ]
  },
  {
   "cell_type": "code",
   "execution_count": 14,
   "id": "7c797d01-df89-47ff-92bc-e1aa51be9c34",
   "metadata": {},
   "outputs": [
    {
     "name": "stdout",
     "output_type": "stream",
     "text": [
      "Hello, saim nice to meet you!\n"
     ]
    }
   ],
   "source": [
    "#**************QUESTION 2*******************\n",
    "\n",
    "def greet_user(name):\n",
    "    print(\"Hello, \" + name + \" nice to meet you!\")\n",
    "\n",
    "greet_user(\"saim\")"
   ]
  },
  {
   "cell_type": "code",
   "execution_count": 4,
   "id": "0e625984-477f-4abe-877c-b1e3d1e9bc80",
   "metadata": {},
   "outputs": [
    {
     "name": "stdout",
     "output_type": "stream",
     "text": [
      "I have a pet Dog his name is max.\n",
      "I have a pet dog his name is Max.\n"
     ]
    }
   ],
   "source": [
    "#**************QUESTION 3*******************\n",
    "\n",
    "def describe_pet(animal_type, pet_name):\n",
    "    print(f\"I have a pet {animal_type} his name is {pet_name}.\")\n",
    "\n",
    "describe_pet( animal_type = \"Dog\" , pet_name = \"max\" ) \n",
    "describe_pet( \"dog\" , \"Max\" )"
   ]
  },
  {
   "cell_type": "code",
   "execution_count": 10,
   "id": "c72039a1-aad8-40d9-a61f-9851f5e9f339",
   "metadata": {},
   "outputs": [
    {
     "name": "stdout",
     "output_type": "stream",
     "text": [
      "I have a pet rabbit his name is Bhatti.\n"
     ]
    }
   ],
   "source": [
    "#**************QUESTION 4*******************\n",
    "\n",
    "def describe_pet(pet_name, animal_type = \"rabbit\"):\n",
    "    print(f\"I have a pet {animal_type} his name is {pet_name}.\")\n",
    "\n",
    "describe_pet(\"Bhatti\")"
   ]
  },
  {
   "cell_type": "code",
   "execution_count": 9,
   "id": "1246845d-e4e2-4bcb-8368-3eee51653010",
   "metadata": {},
   "outputs": [
    {
     "name": "stdout",
     "output_type": "stream",
     "text": [
      "John Shinwari\n"
     ]
    }
   ],
   "source": [
    "#**************QUESTION 5*******************\n",
    "\n",
    "def get_formatted_name(first, last):\n",
    "    full_name = f\"{first} {last}\"\n",
    "    return full_name.title()\n",
    "\n",
    "name = get_formatted_name('john', 'shinwari')\n",
    "print(name) \n"
   ]
  },
  {
   "cell_type": "code",
   "execution_count": 12,
   "id": "7b4506ee-8c3c-44bb-a9ce-89bec966cf71",
   "metadata": {},
   "outputs": [
    {
     "name": "stdout",
     "output_type": "stream",
     "text": [
      "John Shinwari\n",
      "John Shinwari Asal\n"
     ]
    }
   ],
   "source": [
    "#**************QUESTION 6*******************\n",
    "\n",
    "def get_formatted_name(first, last, middle=''):\n",
    "    if middle:\n",
    "        full_name = f\"{first} {middle} {last}\"\n",
    "    else:\n",
    "        full_name = f\"{first} {last}\"\n",
    "    return full_name.title()\n",
    "\n",
    "name1 = get_formatted_name('john', 'Shinwari')\n",
    "print(name1)\n",
    "\n",
    "name2 = get_formatted_name('john', 'asal', 'shinwari')\n",
    "print(name2)  \n"
   ]
  },
  {
   "cell_type": "code",
   "execution_count": 13,
   "id": "f8f06251-a2bd-4c5a-93a9-d9a022fe3c15",
   "metadata": {},
   "outputs": [
    {
     "name": "stdout",
     "output_type": "stream",
     "text": [
      "{'first_name': 'John', 'last_name': 'Doe'}\n",
      "{'first_name': 'Jane', 'last_name': 'Smith', 'age': 30}\n"
     ]
    }
   ],
   "source": [
    "#**************QUESTION 7*******************\n",
    "\n",
    "def build_person(first, last, age=None):\n",
    "    person = {\n",
    "        'first_name': first,\n",
    "        'last_name': last\n",
    "    }\n",
    "    if age is not None:\n",
    "        person['age'] = age\n",
    "    return person\n",
    "\n",
    "person1 = build_person('John', 'Doe')\n",
    "print(person1)\n",
    "\n",
    "person2 = build_person('Jane', 'Smith', age=30)\n",
    "print(person2)\n"
   ]
  },
  {
   "cell_type": "code",
   "execution_count": null,
   "id": "bf7946a6-5f5a-4dfd-bbc9-dd127a73a6b2",
   "metadata": {},
   "outputs": [],
   "source": []
  }
 ],
 "metadata": {
  "kernelspec": {
   "display_name": "Python 3 (ipykernel)",
   "language": "python",
   "name": "python3"
  },
  "language_info": {
   "codemirror_mode": {
    "name": "ipython",
    "version": 3
   },
   "file_extension": ".py",
   "mimetype": "text/x-python",
   "name": "python",
   "nbconvert_exporter": "python",
   "pygments_lexer": "ipython3",
   "version": "3.12.4"
  }
 },
 "nbformat": 4,
 "nbformat_minor": 5
}
